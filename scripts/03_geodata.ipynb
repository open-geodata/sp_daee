{
 "cells": [
  {
   "cell_type": "markdown",
   "id": "31395101-3ec7-43eb-9388-7899f6296481",
   "metadata": {},
   "source": [
    "<br>\n",
    "\n",
    "# Introdução"
   ]
  },
  {
   "cell_type": "code",
   "execution_count": 1,
   "id": "c8210ed4-41cc-44b9-91cd-82bd075ae027",
   "metadata": {},
   "outputs": [],
   "source": [
    "import os\n",
    "import pandas as pd\n",
    "import geopandas as gpd\n",
    "from shapely.geometry import Point"
   ]
  },
  {
   "cell_type": "code",
   "execution_count": 2,
   "id": "5651fb5f-ada3-4bfc-87b4-76705fd2dace",
   "metadata": {},
   "outputs": [],
   "source": [
    "from paths import *"
   ]
  },
  {
   "cell_type": "markdown",
   "id": "7f8cbe63-54f7-40e7-9fb8-c4e8e4ee929d",
   "metadata": {},
   "source": [
    "<br>\n",
    "\n",
    "## Read Data"
   ]
  },
  {
   "cell_type": "code",
   "execution_count": 3,
   "id": "1c06e225-2aea-4b5a-a257-bb4f01a3a5b1",
   "metadata": {},
   "outputs": [
    {
     "name": "stdout",
     "output_type": "stream",
     "text": [
      "<class 'pandas.core.frame.DataFrame'>\n",
      "RangeIndex: 188278 entries, 0 to 188277\n",
      "Data columns (total 21 columns):\n",
      " #   Column                   Non-Null Count   Dtype  \n",
      "---  ------                   --------------   -----  \n",
      " 0   cod_bacia                188278 non-null  int64  \n",
      " 1   nome_rio_aquifero        146691 non-null  object \n",
      " 2   cod_rio_poco             133770 non-null  object \n",
      " 3   dist_foz_km              188278 non-null  float64\n",
      " 4   usuario                  188267 non-null  object \n",
      " 5   autos_daee               188278 non-null  int64  \n",
      " 6   uso                      188278 non-null  object \n",
      " 7   seq                      188278 non-null  int64  \n",
      " 8   finalidade_uso           175722 non-null  object \n",
      " 9   situacao_administrativa  176579 non-null  object \n",
      " 10  vazao_m3h                188278 non-null  float64\n",
      " 11  hora_dia                 188278 non-null  int64  \n",
      " 12  dia_mes                  188278 non-null  int64  \n",
      " 13  mes_ano                  188278 non-null  int64  \n",
      " 14  utm_norte_km             188278 non-null  float64\n",
      " 15  utm_leste_km             188278 non-null  float64\n",
      " 16  utm_mc                   188278 non-null  int64  \n",
      " 17  utm_norte_m              188278 non-null  int64  \n",
      " 18  utm_leste_m              188278 non-null  int64  \n",
      " 19  erro_data                195 non-null     object \n",
      " 20  erro_coordenada          33497 non-null   object \n",
      "dtypes: float64(4), int64(9), object(8)\n",
      "memory usage: 30.2+ MB\n"
     ]
    },
    {
     "name": "stderr",
     "output_type": "stream",
     "text": [
      "/tmp/ipykernel_34557/1725812218.py:1: DtypeWarning: Columns (2) have mixed types. Specify dtype option on import or set low_memory=False.\n",
      "  df = pd.read_csv(\n"
     ]
    },
    {
     "data": {
      "text/html": [
       "<div>\n",
       "<style scoped>\n",
       "    .dataframe tbody tr th:only-of-type {\n",
       "        vertical-align: middle;\n",
       "    }\n",
       "\n",
       "    .dataframe tbody tr th {\n",
       "        vertical-align: top;\n",
       "    }\n",
       "\n",
       "    .dataframe thead th {\n",
       "        text-align: right;\n",
       "    }\n",
       "</style>\n",
       "<table border=\"1\" class=\"dataframe\">\n",
       "  <thead>\n",
       "    <tr style=\"text-align: right;\">\n",
       "      <th></th>\n",
       "      <th>cod_bacia</th>\n",
       "      <th>nome_rio_aquifero</th>\n",
       "      <th>cod_rio_poco</th>\n",
       "      <th>dist_foz_km</th>\n",
       "      <th>usuario</th>\n",
       "      <th>autos_daee</th>\n",
       "      <th>uso</th>\n",
       "      <th>seq</th>\n",
       "      <th>finalidade_uso</th>\n",
       "      <th>situacao_administrativa</th>\n",
       "      <th>...</th>\n",
       "      <th>hora_dia</th>\n",
       "      <th>dia_mes</th>\n",
       "      <th>mes_ano</th>\n",
       "      <th>utm_norte_km</th>\n",
       "      <th>utm_leste_km</th>\n",
       "      <th>utm_mc</th>\n",
       "      <th>utm_norte_m</th>\n",
       "      <th>utm_leste_m</th>\n",
       "      <th>erro_data</th>\n",
       "      <th>erro_coordenada</th>\n",
       "    </tr>\n",
       "  </thead>\n",
       "  <tbody>\n",
       "    <tr>\n",
       "      <th>0</th>\n",
       "      <td>5</td>\n",
       "      <td>NaN</td>\n",
       "      <td>NaN</td>\n",
       "      <td>0.0</td>\n",
       "      <td>PUBLICO</td>\n",
       "      <td>35010</td>\n",
       "      <td>CAPTACAO SUBTERRANEA</td>\n",
       "      <td>1</td>\n",
       "      <td>NaN</td>\n",
       "      <td>NaN</td>\n",
       "      <td>...</td>\n",
       "      <td>12</td>\n",
       "      <td>0</td>\n",
       "      <td>0</td>\n",
       "      <td>0.0</td>\n",
       "      <td>0.0</td>\n",
       "      <td>0</td>\n",
       "      <td>0</td>\n",
       "      <td>0</td>\n",
       "      <td>NaN</td>\n",
       "      <td>Erro na coordenada</td>\n",
       "    </tr>\n",
       "    <tr>\n",
       "      <th>1</th>\n",
       "      <td>6</td>\n",
       "      <td>NaN</td>\n",
       "      <td>NaN</td>\n",
       "      <td>0.0</td>\n",
       "      <td>PUBLICO</td>\n",
       "      <td>34843</td>\n",
       "      <td>LANCAMENTO SUPERFICIAL</td>\n",
       "      <td>1</td>\n",
       "      <td>NaN</td>\n",
       "      <td>NaN</td>\n",
       "      <td>...</td>\n",
       "      <td>0</td>\n",
       "      <td>0</td>\n",
       "      <td>0</td>\n",
       "      <td>0.0</td>\n",
       "      <td>0.0</td>\n",
       "      <td>0</td>\n",
       "      <td>0</td>\n",
       "      <td>0</td>\n",
       "      <td>NaN</td>\n",
       "      <td>Erro na coordenada</td>\n",
       "    </tr>\n",
       "    <tr>\n",
       "      <th>2</th>\n",
       "      <td>8</td>\n",
       "      <td>NaN</td>\n",
       "      <td>NaN</td>\n",
       "      <td>0.0</td>\n",
       "      <td>PUBLICO</td>\n",
       "      <td>9200002</td>\n",
       "      <td>CAPTACAO SUBTERRANEA</td>\n",
       "      <td>1</td>\n",
       "      <td>AB.PUBL</td>\n",
       "      <td>LICENCA OPERACAO</td>\n",
       "      <td>...</td>\n",
       "      <td>20</td>\n",
       "      <td>0</td>\n",
       "      <td>0</td>\n",
       "      <td>0.0</td>\n",
       "      <td>0.0</td>\n",
       "      <td>0</td>\n",
       "      <td>0</td>\n",
       "      <td>0</td>\n",
       "      <td>NaN</td>\n",
       "      <td>Erro na coordenada</td>\n",
       "    </tr>\n",
       "    <tr>\n",
       "      <th>3</th>\n",
       "      <td>5</td>\n",
       "      <td>NaN</td>\n",
       "      <td>NaN</td>\n",
       "      <td>0.0</td>\n",
       "      <td>PUBLICO</td>\n",
       "      <td>9701259</td>\n",
       "      <td>CAPTACAO SUBTERRANEA</td>\n",
       "      <td>1</td>\n",
       "      <td>NaN</td>\n",
       "      <td>NaN</td>\n",
       "      <td>...</td>\n",
       "      <td>20</td>\n",
       "      <td>0</td>\n",
       "      <td>0</td>\n",
       "      <td>0.0</td>\n",
       "      <td>0.0</td>\n",
       "      <td>0</td>\n",
       "      <td>0</td>\n",
       "      <td>0</td>\n",
       "      <td>NaN</td>\n",
       "      <td>Erro na coordenada</td>\n",
       "    </tr>\n",
       "    <tr>\n",
       "      <th>4</th>\n",
       "      <td>5</td>\n",
       "      <td>FORMACAO ADAMANTINA</td>\n",
       "      <td>NaN</td>\n",
       "      <td>0.0</td>\n",
       "      <td>PUBLICO</td>\n",
       "      <td>9405973</td>\n",
       "      <td>CAPTACAO SUBTERRANEA</td>\n",
       "      <td>1</td>\n",
       "      <td>AB.PUBL</td>\n",
       "      <td>LIC PERFURACAO</td>\n",
       "      <td>...</td>\n",
       "      <td>0</td>\n",
       "      <td>0</td>\n",
       "      <td>0</td>\n",
       "      <td>7622.3</td>\n",
       "      <td>570.2</td>\n",
       "      <td>51</td>\n",
       "      <td>7622300</td>\n",
       "      <td>570200</td>\n",
       "      <td>NaN</td>\n",
       "      <td>NaN</td>\n",
       "    </tr>\n",
       "  </tbody>\n",
       "</table>\n",
       "<p>5 rows × 21 columns</p>\n",
       "</div>"
      ],
      "text/plain": [
       "   cod_bacia    nome_rio_aquifero cod_rio_poco  dist_foz_km  usuario  \\\n",
       "0          5                  NaN          NaN          0.0  PUBLICO   \n",
       "1          6                  NaN          NaN          0.0  PUBLICO   \n",
       "2          8                  NaN          NaN          0.0  PUBLICO   \n",
       "3          5                  NaN          NaN          0.0  PUBLICO   \n",
       "4          5  FORMACAO ADAMANTINA          NaN          0.0  PUBLICO   \n",
       "\n",
       "   autos_daee                     uso  seq finalidade_uso  \\\n",
       "0       35010    CAPTACAO SUBTERRANEA    1            NaN   \n",
       "1       34843  LANCAMENTO SUPERFICIAL    1            NaN   \n",
       "2     9200002    CAPTACAO SUBTERRANEA    1        AB.PUBL   \n",
       "3     9701259    CAPTACAO SUBTERRANEA    1            NaN   \n",
       "4     9405973    CAPTACAO SUBTERRANEA    1        AB.PUBL   \n",
       "\n",
       "  situacao_administrativa  ...  hora_dia  dia_mes  mes_ano  utm_norte_km  \\\n",
       "0                     NaN  ...        12        0        0           0.0   \n",
       "1                     NaN  ...         0        0        0           0.0   \n",
       "2        LICENCA OPERACAO  ...        20        0        0           0.0   \n",
       "3                     NaN  ...        20        0        0           0.0   \n",
       "4          LIC PERFURACAO  ...         0        0        0        7622.3   \n",
       "\n",
       "   utm_leste_km  utm_mc  utm_norte_m  utm_leste_m  erro_data  \\\n",
       "0           0.0       0            0            0        NaN   \n",
       "1           0.0       0            0            0        NaN   \n",
       "2           0.0       0            0            0        NaN   \n",
       "3           0.0       0            0            0        NaN   \n",
       "4         570.2      51      7622300       570200        NaN   \n",
       "\n",
       "      erro_coordenada  \n",
       "0  Erro na coordenada  \n",
       "1  Erro na coordenada  \n",
       "2  Erro na coordenada  \n",
       "3  Erro na coordenada  \n",
       "4                 NaN  \n",
       "\n",
       "[5 rows x 21 columns]"
      ]
     },
     "execution_count": 3,
     "metadata": {},
     "output_type": "execute_result"
    }
   ],
   "source": [
    "df = pd.read_csv(\n",
    "    os.path.join(output_path_tab, 'tab_daee.csv')\n",
    ")\n",
    "df.info()\n",
    "df.head()"
   ]
  },
  {
   "cell_type": "markdown",
   "id": "4523825d-b4a1-4f54-88e1-1dc033b97a7a",
   "metadata": {},
   "source": [
    "<br>\n",
    "\n",
    "## Dados Espaciais"
   ]
  },
  {
   "cell_type": "code",
   "execution_count": 4,
   "id": "0f15f9e6-d40a-40a8-8093-250d64c8100c",
   "metadata": {},
   "outputs": [],
   "source": [
    "# Exclui Problemas\n",
    "df = df[df['erro_data'].isna()]\n",
    "df = df[df['erro_coordenada'].isna()]"
   ]
  },
  {
   "cell_type": "code",
   "execution_count": 5,
   "id": "b91fa10c-fa88-4686-bf00-9d893a32e74a",
   "metadata": {},
   "outputs": [
    {
     "name": "stdout",
     "output_type": "stream",
     "text": [
      "{51, 45}\n"
     ]
    },
    {
     "data": {
      "text/plain": [
       "<AxesSubplot:>"
      ]
     },
     "execution_count": 5,
     "metadata": {},
     "output_type": "execute_result"
    },
    {
     "data": {
      "image/png": "[encoded data removed]",
      "text/plain": [
       "<Figure size 432x288 with 1 Axes>"
      ]
     },
     "metadata": {
      "needs_background": "light"
     },
     "output_type": "display_data"
    }
   ],
   "source": [
    "# Checa Resultados\n",
    "print(set(df['utm_mc']))\n",
    "df['utm_mc'].hist()"
   ]
  },
  {
   "cell_type": "markdown",
   "id": "0b90ac33-c36f-4f92-a6c2-fe7c356192a6",
   "metadata": {},
   "source": [
    "<br>\n",
    "\n",
    "## Concatena"
   ]
  },
  {
   "cell_type": "code",
   "execution_count": 6,
   "id": "1bd4cdb2-3588-4247-bf35-c3b7c78161c8",
   "metadata": {},
   "outputs": [],
   "source": [
    "df_22 = df[df['utm_mc'] == 51]\n",
    "\n",
    "geo_22 = [Point(xy) for xy in zip(df_22['utm_leste_m'], df_22['utm_norte_m'])]\n",
    "gdf_22 = gpd.GeoDataFrame(\n",
    "    df_22,\n",
    "    crs='EPSG:31982',\n",
    "    geometry=geo_22,\n",
    ")\n",
    "\n",
    "gdf_22 = gdf_22.to_crs(epsg=4326)"
   ]
  },
  {
   "cell_type": "code",
   "execution_count": 7,
   "id": "6bd2b4e9-e02c-42ad-93e1-89e26130d6a1",
   "metadata": {},
   "outputs": [],
   "source": [
    "df_23 = df[df['utm_mc'] == 45]\n",
    "\n",
    "geo_23 = [Point(xy) for xy in zip(df_23['utm_leste_m'], df_23['utm_norte_m'])]\n",
    "gdf_23 = gpd.GeoDataFrame(\n",
    "    df_23,\n",
    "    crs='EPSG:31983',\n",
    "    geometry=geo_23,\n",
    ")\n",
    "\n",
    "gdf_23 = gdf_23.to_crs(epsg=4326)"
   ]
  },
  {
   "cell_type": "code",
   "execution_count": 8,
   "id": "309b3fca-15fe-4a49-9ffb-a65d1fd24532",
   "metadata": {},
   "outputs": [],
   "source": [
    "gdf = gpd.GeoDataFrame(\n",
    "    pd.concat([gdf_22, gdf_23],\n",
    "    ignore_index=True),\n",
    "    crs=gdf_22.crs\n",
    ")"
   ]
  },
  {
   "cell_type": "markdown",
   "id": "e9b502a6-c081-4d8f-90c4-248192e10a99",
   "metadata": {},
   "source": [
    "<br>\n",
    "\n",
    "## Estado"
   ]
  },
  {
   "cell_type": "code",
   "execution_count": 9,
   "id": "87a3178d-bfc6-46a5-9a63-5403f83b2911",
   "metadata": {},
   "outputs": [
    {
     "data": {
      "text/plain": [
       "'~/Codes/open_geodata/sp_datageo/data/output'"
      ]
     },
     "execution_count": 9,
     "metadata": {},
     "output_type": "execute_result"
    }
   ],
   "source": [
    "datageo_path = os.path.join('~', 'Codes', 'open_geodata', 'sp_datageo')\n",
    "datageo_path_data = os.path.join(datageo_path, 'data', 'output')\n",
    "datageo_path_data"
   ]
  },
  {
   "cell_type": "code",
   "execution_count": 10,
   "id": "752f61df-a9cd-407a-a986-c2ad0d541912",
   "metadata": {},
   "outputs": [],
   "source": [
    "gdf_sp = gpd.read_file(\n",
    "    os.path.join(datageo_path_data, 'sp_datageo_limite_estadual.gpkg')\n",
    ")\n",
    "gdf_sp = gdf_sp.to_crs(epsg=3395)\n",
    "gdf_sp['geometry'] = gdf_sp['geometry'].buffer(1000)\n",
    "gdf_sp = gdf_sp.to_crs(epsg=4326)\n",
    "#gdf_sp.explore()"
   ]
  },
  {
   "cell_type": "code",
   "execution_count": 11,
   "id": "022042f5-8250-4408-9354-755e0bcd5320",
   "metadata": {},
   "outputs": [
    {
     "data": {
      "text/plain": [
       "<AxesSubplot:>"
      ]
     },
     "execution_count": 11,
     "metadata": {},
     "output_type": "execute_result"
    },
    {
     "data": {
      "image/png": "[encoded data removed]",
      "text/plain": [
       "<Figure size 432x288 with 1 Axes>"
      ]
     },
     "metadata": {
      "needs_background": "light"
     },
     "output_type": "display_data"
    }
   ],
   "source": [
    "gdf_outorgas = gpd.clip(gdf, gdf_sp)\n",
    "gdf_outorgas.plot()"
   ]
  },
  {
   "cell_type": "markdown",
   "id": "21202582-0b9f-497f-8f22-7c7ca6087cec",
   "metadata": {},
   "source": [
    "<br>\n",
    "\n",
    "## Salva arquivo"
   ]
  },
  {
   "cell_type": "code",
   "execution_count": 12,
   "id": "1b74a042-f7dc-4158-a535-3801dc276a66",
   "metadata": {},
   "outputs": [
    {
     "name": "stderr",
     "output_type": "stream",
     "text": [
      "/home/michel/Documents/conda/envs/pablocarreira-py39/lib/python3.9/site-packages/geopandas/io/file.py:362: FutureWarning: pandas.Int64Index is deprecated and will be removed from pandas in a future version. Use pandas.Index with the appropriate dtype instead.\n",
      "  pd.Int64Index,\n"
     ]
    }
   ],
   "source": [
    "gdf_outorgas.to_file(\n",
    "    os.path.join(output_path_geo, 'outorgas.gpkg'),\n",
    "    layer='outorgas',\n",
    "    driver='GPKG'\n",
    ")"
   ]
  },
  {
   "cell_type": "code",
   "execution_count": null,
   "id": "c1cb5575-9b4c-4956-84e2-d80a7149868c",
   "metadata": {},
   "outputs": [],
   "source": []
  }
 ],
 "metadata": {
  "interpreter": {
   "hash": "2bdda54bf0f28693adab761d90c570fb0a7faa3609b365313c0b5d078440c060"
  },
  "kernelspec": {
   "display_name": "Python 3 (ipykernel)",
   "language": "python",
   "name": "python3"
  },
  "language_info": {
   "codemirror_mode": {
    "name": "ipython",
    "version": 3
   },
   "file_extension": ".py",
   "mimetype": "text/x-python",
   "name": "python",
   "nbconvert_exporter": "python",
   "pygments_lexer": "ipython3",
   "version": "3.9.13"
  },
  "toc-autonumbering": true
 },
 "nbformat": 4,
 "nbformat_minor": 5
}
