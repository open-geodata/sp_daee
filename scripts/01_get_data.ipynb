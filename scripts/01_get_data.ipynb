{
 "cells": [
  {
   "cell_type": "markdown",
   "metadata": {},
   "source": [
    "<br>\n",
    "\n",
    "# Introdução\n"
   ]
  },
  {
   "cell_type": "code",
   "execution_count": 1,
   "metadata": {},
   "outputs": [],
   "source": [
    "#!pip3 install traquitanas --upgrade\n"
   ]
  },
  {
   "cell_type": "code",
   "execution_count": 2,
   "metadata": {},
   "outputs": [],
   "source": [
    "import os\n",
    "import time\n",
    "import shutil\n",
    "from datetime import date\n"
   ]
  },
  {
   "cell_type": "code",
   "execution_count": 3,
   "metadata": {},
   "outputs": [],
   "source": [
    "# from traquitanas import net\n"
   ]
  },
  {
   "cell_type": "code",
   "execution_count": 4,
   "metadata": {},
   "outputs": [],
   "source": [
    "from selenium.webdriver.common.by import By\n",
    "from selenium.webdriver.support.ui import Select\n",
    "from selenium.webdriver.support.ui import WebDriverWait\n",
    "from selenium.webdriver.support import expected_conditions as EC\n"
   ]
  },
  {
   "cell_type": "code",
   "execution_count": 5,
   "metadata": {},
   "outputs": [
    {
     "name": "stderr",
     "output_type": "stream",
     "text": [
      "[WDM] - Downloading: 19.0kB [00:00, 602kB/s]                    \n"
     ]
    },
    {
     "name": "stdout",
     "output_type": "stream",
     "text": [
      ">>>>>> /home/michel/.wdm/drivers/geckodriver/linux64/0.32/geckodriver\n"
     ]
    }
   ],
   "source": [
    "from paths import *\n",
    "from driver import *\n"
   ]
  },
  {
   "cell_type": "markdown",
   "metadata": {},
   "source": [
    "<br>\n",
    "\n",
    "# Funções\n"
   ]
  },
  {
   "cell_type": "markdown",
   "metadata": {},
   "source": [
    "<br>\n",
    "\n",
    "## Cria Driver\n"
   ]
  },
  {
   "cell_type": "code",
   "execution_count": 6,
   "metadata": {},
   "outputs": [],
   "source": [
    "# download_path = os.path.abspath(os.path.join(os.getcwd(), bruto_path, 'temp'))\n",
    "# print(download_path)\n",
    "\n",
    "# driver = net.scraping.create_driver(\n",
    "#     download_path,\n",
    "#     headless=False,\n",
    "#     adds_path=os.path.join('..', 'scrapy', 'adds'),\n",
    "#     log_path=os.path.join('..', 'scrapy', 'logs')\n",
    "# )\n"
   ]
  },
  {
   "cell_type": "markdown",
   "metadata": {},
   "source": [
    "<br>\n",
    "\n",
    "## _Download_ dos dados\n"
   ]
  },
  {
   "cell_type": "code",
   "execution_count": 7,
   "metadata": {},
   "outputs": [],
   "source": [
    "# Vai pra site \"Aplicações\"\n",
    "url = \"http://www.aplicacoes.daee.sp.gov.br/usosrec/fchweb.html\"\n",
    "driver.get(url)\n"
   ]
  },
  {
   "cell_type": "code",
   "execution_count": 9,
   "metadata": {},
   "outputs": [],
   "source": [
    "# Vai pra subsite \"Baixar Usos p/ Bacia Hidrográfica\"\n",
    "url = 'http://www.aplicacoes.daee.sp.gov.br/usosrec/Daeewebbacia1.asp'\n",
    "driver.get(url)\n"
   ]
  },
  {
   "cell_type": "code",
   "execution_count": null,
   "metadata": {},
   "outputs": [],
   "source": [
    "# Seleciona Bacia\n",
    "ugrhi = Select(driver.find_element(by=By.XPATH, value=\"//*[@name='bacia1']\"))\n",
    "ugrhi.select_by_visible_text(\n",
    "    '99 - TODAS AS BACIAS HIDROGRAFICAS DO ESTADO DE SAO PAULO'\n",
    ")\n"
   ]
  },
  {
   "cell_type": "code",
   "execution_count": null,
   "metadata": {},
   "outputs": [],
   "source": [
    "# Clica em Selecionar (Esperar algum tepo)\n",
    "driver.find_element(by=By.XPATH, value=\"//*[@value='SELECIONAR']\").click()\n"
   ]
  },
  {
   "cell_type": "code",
   "execution_count": null,
   "metadata": {},
   "outputs": [],
   "source": [
    "# Espera algum componente aparecer\n",
    "time.sleep(5)\n"
   ]
  },
  {
   "cell_type": "code",
   "execution_count": null,
   "metadata": {},
   "outputs": [],
   "source": [
    "# Fecha janela inicial\n",
    "driver.switch_to.window(driver.window_handles[0])\n",
    "driver.close()\n",
    "\n",
    "# Muda para janela principal\n",
    "driver.switch_to.window(driver.window_handles[0])\n"
   ]
  },
  {
   "cell_type": "code",
   "execution_count": null,
   "metadata": {},
   "outputs": [
    {
     "data": {
      "text/plain": [
       "<selenium.webdriver.remote.webelement.WebElement (session=\"e1988b8c-ac36-42e2-bf61-66fc82ef56a1\", element=\"4cdf9df7-1e55-4a5e-85db-af4be713fba9\")>"
      ]
     },
     "execution_count": 20,
     "metadata": {},
     "output_type": "execute_result"
    }
   ],
   "source": [
    "WebDriverWait(driver, 80).until(\n",
    "    EC.visibility_of_element_located((By.XPATH, '//*[contains(@class, \"caixa1\")]'))\n",
    ")\n"
   ]
  },
  {
   "cell_type": "code",
   "execution_count": null,
   "metadata": {},
   "outputs": [],
   "source": [
    "# Scrool Down\n",
    "driver.execute_script('window.scrollTo(0, document.body.scrollHeight);')\n"
   ]
  },
  {
   "cell_type": "code",
   "execution_count": null,
   "metadata": {},
   "outputs": [],
   "source": [
    "# Clicar para Download\n",
    "driver.find_element(by=By.XPATH, value='//*[contains(@class, \"caixa1\")]').click()\n"
   ]
  },
  {
   "cell_type": "code",
   "execution_count": null,
   "metadata": {},
   "outputs": [
    {
     "name": "stdout",
     "output_type": "stream",
     "text": [
      "ee\n"
     ]
    }
   ],
   "source": [
    "download_ok = False\n",
    "n_tries = 0\n",
    "\n",
    "while not download_ok and n_tries < 10:\n",
    "    list_files = os.listdir(os.path.join(bruto_path, 'temp'))\n",
    "\n",
    "    if len(list_files) > 1:\n",
    "        time.sleep(1)\n",
    "\n",
    "    if len(list_files) == 1:\n",
    "        hoje = date.today().strftime(\"%Y.%m.%d\")\n",
    "        shutil.move(\n",
    "            os.path.join(bruto_path, 'temp', list_files[0]),\n",
    "            os.path.join(bruto_path, f'outorgas_{hoje}.txt'),\n",
    "        )\n",
    "\n",
    "    if len(list_files) == 0:\n",
    "        # Espera download terminar\n",
    "        driver.quit()\n",
    "        time.sleep(1)\n",
    "        os.chmod(os.path.join(bruto_path, 'temp'), 0o777)\n",
    "        shutil.rmtree(\n",
    "            os.path.join(bruto_path, 'temp'),\n",
    "            onerror=print('ee'),\n",
    "            ignore_errors=True,\n",
    "        )\n",
    "        download_ok = True\n",
    "\n",
    "    n_tries += 1\n"
   ]
  },
  {
   "cell_type": "code",
   "execution_count": null,
   "metadata": {},
   "outputs": [],
   "source": []
  }
 ],
 "metadata": {
  "kernelspec": {
   "display_name": "Python 3.9.13 ('pablocarreira-py39')",
   "language": "python",
   "name": "python3"
  },
  "language_info": {
   "codemirror_mode": {
    "name": "ipython",
    "version": 3
   },
   "file_extension": ".py",
   "mimetype": "text/x-python",
   "name": "python",
   "nbconvert_exporter": "python",
   "pygments_lexer": "ipython3",
   "version": "3.9.13"
  },
  "toc": {
   "base_numbering": 1,
   "nav_menu": {},
   "number_sections": true,
   "sideBar": true,
   "skip_h1_title": false,
   "title_cell": "Table of Contents",
   "title_sidebar": "Contents",
   "toc_cell": false,
   "toc_position": {},
   "toc_section_display": true,
   "toc_window_display": false
  },
  "toc-autonumbering": true,
  "vscode": {
   "interpreter": {
    "hash": "397a8db9a99587ebc9659e575e97c3dbc03b7cdbd9bc181d706cc19eab1087ed"
   }
  }
 },
 "nbformat": 4,
 "nbformat_minor": 4
}
