{
 "cells": [
  {
   "cell_type": "markdown",
   "metadata": {},
   "source": [
    "<br>\n",
    "\n",
    "# Introdução"
   ]
  },
  {
   "cell_type": "code",
   "execution_count": null,
   "metadata": {},
   "outputs": [],
   "source": [
    "#!pip3 install traquitanas --upgrade"
   ]
  },
  {
   "cell_type": "code",
   "execution_count": null,
   "metadata": {},
   "outputs": [],
   "source": [
    "import os\n",
    "import time\n",
    "import shutil\n",
    "from datetime import date"
   ]
  },
  {
   "cell_type": "code",
   "execution_count": null,
   "metadata": {},
   "outputs": [],
   "source": [
    "from traquitanas import net"
   ]
  },
  {
   "cell_type": "code",
   "execution_count": null,
   "metadata": {},
   "outputs": [],
   "source": [
    "from selenium.webdriver.common.by import By\n",
    "from selenium.webdriver.support.ui import Select\n",
    "from selenium.webdriver.support.ui import WebDriverWait\n",
    "from selenium.webdriver.support import expected_conditions as EC"
   ]
  },
  {
   "cell_type": "code",
   "execution_count": null,
   "metadata": {},
   "outputs": [],
   "source": [
    "from paths import *"
   ]
  },
  {
   "cell_type": "markdown",
   "metadata": {},
   "source": [
    "<br>\n",
    "\n",
    "# Funções"
   ]
  },
  {
   "cell_type": "markdown",
   "metadata": {},
   "source": [
    "<br>\n",
    "\n",
    "## Cria Driver"
   ]
  },
  {
   "cell_type": "code",
   "execution_count": null,
   "metadata": {},
   "outputs": [],
   "source": [
    "download_path = os.path.abspath(os.path.join(os.getcwd(), bruto_path, 'temp'))\n",
    "print(download_path)\n",
    "\n",
    "driver = net.scraping.create_driver(\n",
    "    download_path,\n",
    "    headless=False,\n",
    "    adds_path=os.path.join('..', 'scrapy', 'adds'),\n",
    "    log_path=os.path.join('..', 'scrapy', 'logs')\n",
    ")"
   ]
  },
  {
   "cell_type": "markdown",
   "metadata": {},
   "source": [
    "<br>\n",
    "\n",
    "## *Download* dos dados"
   ]
  },
  {
   "cell_type": "code",
   "execution_count": null,
   "metadata": {},
   "outputs": [],
   "source": [
    "# Vai pra site \"Aplicações\"\n",
    "url = 'http://www.aplicacoes.daee.sp.gov.br/usosrec/fchweb.html'\n",
    "driver.get(url)"
   ]
  },
  {
   "cell_type": "code",
   "execution_count": null,
   "metadata": {},
   "outputs": [],
   "source": [
    "# Vai pra subsite \"Baixar Usos p/Bacia Hidrográfica\"\n",
    "url = 'http://www.aplicacoes.daee.sp.gov.br/usosrec/Daeewebbacia1.asp'\n",
    "driver.get(url)"
   ]
  },
  {
   "cell_type": "code",
   "execution_count": null,
   "metadata": {},
   "outputs": [],
   "source": [
    "# Seleciona Bacia\n",
    "ugrhi = Select(driver.find_element(by=By.XPATH, value=\"//*[@name='bacia1']\"))\n",
    "ugrhi.select_by_visible_text('99 - TODAS AS BACIAS HIDROGRAFICAS DO ESTADO DE SAO PAULO')"
   ]
  },
  {
   "cell_type": "code",
   "execution_count": null,
   "metadata": {},
   "outputs": [],
   "source": [
    "# Clica em Selecionar (Esperar algum tepo)\n",
    "driver.find_element(by=By.XPATH, value=\"//*[@value='SELECIONAR']\").click()"
   ]
  },
  {
   "cell_type": "code",
   "execution_count": null,
   "metadata": {},
   "outputs": [],
   "source": [
    "# Espera algum componente aparecer\n",
    "time.sleep(5)"
   ]
  },
  {
   "cell_type": "code",
   "execution_count": null,
   "metadata": {},
   "outputs": [],
   "source": [
    "# Fecha janela inicial\n",
    "driver.switch_to.window(driver.window_handles[0])\n",
    "driver.close()\n",
    "\n",
    "# Muda para janela principal\n",
    "driver.switch_to.window(driver.window_handles[0])"
   ]
  },
  {
   "cell_type": "code",
   "execution_count": null,
   "metadata": {},
   "outputs": [],
   "source": [
    "WebDriverWait(driver, 80).until(EC.visibility_of_element_located((By.XPATH, '//*[contains(@class, \"caixa1\")]')))"
   ]
  },
  {
   "cell_type": "code",
   "execution_count": null,
   "metadata": {},
   "outputs": [],
   "source": [
    "# Scrool Down\n",
    "driver.execute_script('window.scrollTo(0, document.body.scrollHeight);')"
   ]
  },
  {
   "cell_type": "code",
   "execution_count": null,
   "metadata": {},
   "outputs": [],
   "source": [
    "# Clicar para Download\n",
    "driver.find_element(by=By.XPATH, value='//*[contains(@class, \"caixa1\")]').click()"
   ]
  },
  {
   "cell_type": "code",
   "execution_count": null,
   "metadata": {},
   "outputs": [],
   "source": [
    "download_ok = False\n",
    "n_tries = 0\n",
    "\n",
    "while not download_ok and n_tries < 10:\n",
    "    list_files = os.listdir(os.path.join(bruto_path, 'temp'))\n",
    "\n",
    "    if len(list_files) > 1:\n",
    "        time.sleep(1)\n",
    "\n",
    "    if len(list_files) == 1:\n",
    "        hoje = date.today().strftime('%Y.%m.%d')\n",
    "        shutil.move(\n",
    "            os.path.join(bruto_path, 'temp', list_files[0]),\n",
    "            os.path.join(bruto_path, f'outorgas_{hoje}.txt'),\n",
    "        )\n",
    "    \n",
    "    if len(list_files) == 0:\n",
    "        # Espera download terminar\n",
    "        driver.quit()\n",
    "        time.sleep(1)\n",
    "        os.chmod(os.path.join(bruto_path, 'temp'), 0o777)\n",
    "        shutil.rmtree(\n",
    "            os.path.join(bruto_path, 'temp'),\n",
    "            onerror=print('ee'),\n",
    "            ignore_errors=True\n",
    "        )\n",
    "        download_ok = True\n",
    "\n",
    "    n_tries += 1"
   ]
  },
  {
   "cell_type": "code",
   "execution_count": null,
   "metadata": {},
   "outputs": [],
   "source": []
  }
 ],
 "metadata": {
  "interpreter": {
   "hash": "2bdda54bf0f28693adab761d90c570fb0a7faa3609b365313c0b5d078440c060"
  },
  "kernelspec": {
   "display_name": "Python 3 (ipykernel)",
   "language": "python",
   "name": "python3"
  },
  "language_info": {
   "codemirror_mode": {
    "name": "ipython",
    "version": 3
   },
   "file_extension": ".py",
   "mimetype": "text/x-python",
   "name": "python",
   "nbconvert_exporter": "python",
   "pygments_lexer": "ipython3",
   "version": "3.9.12"
  },
  "toc": {
   "base_numbering": 1,
   "nav_menu": {},
   "number_sections": true,
   "sideBar": true,
   "skip_h1_title": false,
   "title_cell": "Table of Contents",
   "title_sidebar": "Contents",
   "toc_cell": false,
   "toc_position": {},
   "toc_section_display": true,
   "toc_window_display": false
  },
  "toc-autonumbering": true
 },
 "nbformat": 4,
 "nbformat_minor": 4
}
