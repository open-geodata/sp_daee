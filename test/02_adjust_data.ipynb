{
 "cells": [
  {
   "cell_type": "markdown",
   "id": "ccf84d3c-bfe2-4fd0-9e5c-708ab0e18341",
   "metadata": {},
   "source": [
    "<br>\n",
    "\n",
    "# DAEE"
   ]
  },
  {
   "cell_type": "code",
   "execution_count": null,
   "id": "fe24ce06-b05a-46cd-87f5-eb2d33c97fec",
   "metadata": {},
   "outputs": [],
   "source": [
    "#!pip3 install traquitanas --upgrade"
   ]
  },
  {
   "cell_type": "code",
   "execution_count": null,
   "id": "faac53b3-f969-4d4c-b08e-85c8e92e606a",
   "metadata": {},
   "outputs": [],
   "source": [
    "import os\n",
    "import shutil\n",
    "import glob\n",
    "import numpy as np\n",
    "import pandas as pd\n",
    "import geopandas as gpd\n",
    "from datetime import datetime\n",
    "from shapely.geometry import Point"
   ]
  },
  {
   "cell_type": "code",
   "execution_count": null,
   "id": "2c9289d5-54e8-42c5-9e03-702c0582591b",
   "metadata": {},
   "outputs": [],
   "source": [
    "from traquitanas import utils"
   ]
  },
  {
   "cell_type": "code",
   "execution_count": null,
   "id": "dba73290-d6de-49eb-9e65-fd7a2fcc80e5",
   "metadata": {},
   "outputs": [],
   "source": [
    "from paths import *"
   ]
  },
  {
   "cell_type": "markdown",
   "id": "7c8325e8-426f-4950-b3ff-3d4f1db14df7",
   "metadata": {},
   "source": [
    "<br>\n",
    "\n",
    "# Dados Tabulares"
   ]
  },
  {
   "cell_type": "markdown",
   "id": "e28ee1e5-ebb9-45a8-9974-40fa27978715",
   "metadata": {},
   "source": [
    "<br>\n",
    "\n",
    "## Read Data"
   ]
  },
  {
   "cell_type": "code",
   "execution_count": null,
   "id": "7bb1d088-ccc8-497b-8741-fe1a523e4475",
   "metadata": {},
   "outputs": [],
   "source": [
    "latest_file = max(glob.glob(f'{bruto_path}/*', recursive=True), key=os.path.getmtime)\n",
    "latest_file"
   ]
  },
  {
   "cell_type": "code",
   "execution_count": null,
   "id": "98576247-37d8-4ec1-9514-a8fa89878a71",
   "metadata": {},
   "outputs": [],
   "source": [
    "newestFileCreationDate = datetime.utcfromtimestamp(os.path.getctime(latest_file))\n",
    "newestFileCreationDate"
   ]
  },
  {
   "cell_type": "code",
   "execution_count": null,
   "id": "8b175b58-62ff-4a6e-922b-5a02d94975a9",
   "metadata": {},
   "outputs": [],
   "source": [
    "#\n",
    "my_file = os.path.join(latest_file)\n",
    "\n",
    "# ddd\n",
    "enc = utils.predict_encoding(my_file, n_lines=1000)\n",
    "enc"
   ]
  },
  {
   "cell_type": "code",
   "execution_count": null,
   "id": "9a841ab7-41e1-403a-a1a4-38d8458a44f4",
   "metadata": {},
   "outputs": [],
   "source": [
    "df = pd.read_csv(\n",
    "    os.path.join(latest_file),\n",
    "    sep=';',\n",
    "    skiprows=1,\n",
    "    #encoding=enc,\n",
    "    encoding='latin1',\n",
    "    dtype={\n",
    "        # Identificação\n",
    "        #'QTD': 'quantidade',\n",
    "        #'COD BACIA': 'cod_bacia',\n",
    "        'NOME RIO/AQUIFERO': 'object',\n",
    "        'COD RIO/POCO(DAEE)': 'object',    \n",
    "        'DIST_FOZ(Km)': 'object',\n",
    "\n",
    "        # Administrativo\n",
    "        #'USUARIO': 'usuario',    \n",
    "        #'AUTOS(DAEE)': 'autos_daee',\n",
    "        #'USO': 'uso',\n",
    "        #'SEQ': 'seq',\n",
    "        #'FINALID_USO': 'finalidade_uso',\n",
    "        #'SITUAC_ADMIN(DAEE)': 'situacao_administrativa',\n",
    "\n",
    "        # Vazão\n",
    "        #'VAZAO(M3/H)': 'vazao_m3h',\n",
    "        #'HORA/DIA': 'hora_dia',\n",
    "        #'DIA/MES': 'dia_mes',\n",
    "        #'MES/ANO': 'mes_ano',\n",
    "\n",
    "        # Coordenada\n",
    "        'UTM_NORTE(Km)': 'object',\n",
    "        'UTM_LESTE(Km)': 'object',\n",
    "        'UTM_MC': 'object',\n",
    "    }\n",
    ")\n",
    "\n",
    "df.info()\n",
    "df.head()"
   ]
  },
  {
   "cell_type": "markdown",
   "id": "3880bff4-a1d6-42be-a01c-c30bd048dc41",
   "metadata": {},
   "source": [
    "<br>\n",
    "\n",
    "## Rename Columns"
   ]
  },
  {
   "cell_type": "code",
   "execution_count": null,
   "id": "5c86c5ca-c6c4-4e9e-8021-89ae9c55ed01",
   "metadata": {},
   "outputs": [],
   "source": [
    "# Colunas Originiais\n",
    "#display(list(df.columns))\n",
    "\n",
    "# Renomear Colunas\n",
    "dict_columns = {\n",
    "    # Identificação\n",
    "    'QTD': 'quantidade',\n",
    "    'COD BACIA': 'cod_bacia',\n",
    "    'NOME RIO/AQUIFERO': 'nome_rio_aquifero',\n",
    "    'COD RIO/POCO(DAEE)': 'cod_rio_poco',    \n",
    "    'DIST_FOZ(Km)': 'dist_foz_km',\n",
    "    \n",
    "    # Administrativo\n",
    "    'USUARIO': 'usuario',\n",
    "    'AUTOS(DAEE)': 'autos_daee',\n",
    "    'USO': 'uso',\n",
    "    'SEQ': 'seq',\n",
    "    'FINALID_USO': 'finalidade_uso',\n",
    "    'SITUAC_ADMIN(DAEE)': 'situacao_administrativa',\n",
    "    \n",
    "    # Vazão\n",
    "    'VAZAO(M3/H)': 'vazao_m3h',\n",
    "    'HORA/DIA': 'hora_dia',\n",
    "    'DIA/MES': 'dia_mes',\n",
    "    'MES/ANO': 'mes_ano',\n",
    "    \n",
    "    # Coordenada\n",
    "    'UTM_NORTE(Km)': 'utm_norte_km',\n",
    "    'UTM_LESTE(Km)': 'utm_leste_km',\n",
    "    'UTM_MC': 'utm_mc',\n",
    "}\n",
    "\n",
    "# Rename Columns\n",
    "df.rename(columns=dict_columns, inplace=True, errors='ignore')\n",
    "df"
   ]
  },
  {
   "cell_type": "markdown",
   "id": "f0f41255-0e61-494d-8a46-62e6d48f7c91",
   "metadata": {},
   "source": [
    "<br>\n",
    "\n",
    "## Fix Columns"
   ]
  },
  {
   "cell_type": "code",
   "execution_count": null,
   "id": "590761ff-cf35-46a9-beb7-2793089980f3",
   "metadata": {},
   "outputs": [],
   "source": [
    "# Drop Columns\n",
    "df.drop('quantidade', axis=1, inplace=True, errors='ignore')\n",
    "\n",
    "# Distância da Foz\n",
    "df['dist_foz_km'] = df['dist_foz_km'].str.replace(',', '').astype(float)\n",
    "df['dist_foz_km'] = pd.to_numeric(df['dist_foz_km'])\n",
    "\n",
    "# Vazão\n",
    "df['vazao_m3h'] = df['vazao_m3h'].str.replace(',', '').astype(float)\n",
    "df['vazao_m3h'] = pd.to_numeric(df['vazao_m3h'])\n",
    "\n",
    "# UTM Norte\n",
    "df['utm_norte_km'] = df['utm_norte_km'].str.replace(',', '').astype(float)\n",
    "df['utm_norte_km'] = pd.to_numeric(df['utm_norte_km'])\n",
    "df['utm_norte_m'] = df['utm_norte_km'] * 1000\n",
    "df['utm_norte_m'] = df['utm_norte_m'].astype(int)\n",
    "\n",
    "# UTM Leste\n",
    "df['utm_leste_km'] = df['utm_leste_km'].str.replace(',', '').astype(float)\n",
    "df['utm_leste_km'] = pd.to_numeric(df['utm_leste_km'])\n",
    "df['utm_leste_m'] = df['utm_leste_km'] * 1000\n",
    "df['utm_leste_m'] = df['utm_leste_m'].astype(int)\n",
    "\n",
    "# UTM MC\n",
    "df['utm_mc'] = df['utm_mc'].str.replace(',', '').astype(float)\n",
    "df['utm_mc'] = pd.to_numeric(df['utm_mc'])\n",
    "df['utm_mc'] = df['utm_mc'].astype(int)\n",
    "\n",
    "# Results\n",
    "df"
   ]
  },
  {
   "cell_type": "code",
   "execution_count": null,
   "id": "90f2690b-2321-4bf4-b012-448b770f7ad1",
   "metadata": {},
   "outputs": [],
   "source": [
    "# Se o dtype for object, strip\n",
    "for col in df.columns:\n",
    "    if df[col].dtype == 'O':\n",
    "        df[col] = df[col].str.strip()\n",
    "    else:\n",
    "        pass\n",
    "    print('>>> {}'.format(col))\n",
    "    print(list(df[col][0:10]))\n",
    "    print(' ')"
   ]
  },
  {
   "cell_type": "code",
   "execution_count": null,
   "id": "c8d10325-c8d1-4b75-ae1b-d67b4c077ab2",
   "metadata": {},
   "outputs": [],
   "source": [
    "df.info()\n",
    "df.head()"
   ]
  },
  {
   "cell_type": "code",
   "execution_count": null,
   "id": "c2982b2a-362b-43e3-9c17-8fec18086b4a",
   "metadata": {},
   "outputs": [],
   "source": [
    "# Lista Colunas\n",
    "list_columns = list(df.columns)\n",
    "display(list_columns)\n",
    "\n",
    "# Lista Colunas\n",
    "# list_columns = [\n",
    "#     'cod_bacia',\n",
    "    #'nome_rio_aquifero',\n",
    "    #'cod_rio_poco',\n",
    "    #'dist_foz_km',\n",
    "    #'usuario',\n",
    "    #'autos_daee',\n",
    "    #'uso',\n",
    "    #'seq',\n",
    "    #'finalidade_uso',\n",
    "    #'situacao_administrativa',\n",
    "    #'vazao_m3h',\n",
    "    #'hora_dia',\n",
    "    #'dia_mes',\n",
    "    #'mes_ano',\n",
    "    #'utm_norte_km',\n",
    "    #'utm_leste_km',\n",
    "    #'utm_mc',\n",
    "    #'utm_norte_m',\n",
    "    #'utm_leste_m'\n",
    "# ]\n",
    "\n",
    "# Lista Colunas\n",
    "#for col in df.columns: display(set(df[col]))"
   ]
  },
  {
   "cell_type": "markdown",
   "id": "7d903b5f-f19e-4f04-8539-28f6f35a2171",
   "metadata": {},
   "source": [
    "<br>\n",
    "\n",
    "## Erros"
   ]
  },
  {
   "cell_type": "code",
   "execution_count": null,
   "id": "711d24fd-7acd-4443-aae5-b257071cab44",
   "metadata": {},
   "outputs": [],
   "source": [
    "# Erro: Horas por Dia maior que 24\n",
    "mask = df['hora_dia'] <= 24\n",
    "mask =~ mask\n",
    "df.loc[mask, 'erro_data'] = 'Erro na hora/dia/mês/ano'\n",
    "\n",
    "# Erro: Dias por mês maior que 31\n",
    "mask = df['dia_mes']  <= 31\n",
    "mask =~ mask\n",
    "df.loc[mask, 'erro_data'] = 'Erro na hora/dia/mês/ano'\n",
    "\n",
    "# Erro: Mês por Ano 12\n",
    "mask = df['mes_ano']  <= 12\n",
    "mask =~ mask\n",
    "df.loc[mask, 'erro_data'] = 'Erro na hora/dia/mês/ano'\n",
    "\n",
    "# Erro: Coordenadas sem definição\n",
    "mask = df['utm_leste_km'] == 0\n",
    "df.loc[mask, 'erro_coordenada'] = 'Erro na coordenada'\n",
    "\n",
    "# Erro: Coordenadas sem definição\n",
    "mask = df['utm_norte_km'] == 0\n",
    "df.loc[mask, 'erro_coordenada'] = 'Erro na coordenada'\n",
    "\n",
    "# Erro: Coordenadas sem definição de Meridicano Central\n",
    "mask = (df['utm_mc'] == 45) | (df['utm_mc'] == 51)\n",
    "mask =~ mask\n",
    "df.loc[mask, 'erro_coordenada'] = 'Erro na coordenada'\n",
    "\n",
    "# Results\n",
    "df"
   ]
  },
  {
   "cell_type": "markdown",
   "id": "fa6f32e0-e6ab-4e0f-ad2d-0e8a4bca848d",
   "metadata": {},
   "source": [
    "<br>\n",
    "\n",
    "## Export"
   ]
  },
  {
   "cell_type": "code",
   "execution_count": null,
   "id": "1d624eb1-54ac-48d9-bdd6-3b1ceca5f7fd",
   "metadata": {},
   "outputs": [],
   "source": [
    "df.to_csv(\n",
    "    os.path.join(output_path_tab, 'tab_daee.csv'),\n",
    "    index=False,\n",
    ")"
   ]
  },
  {
   "cell_type": "code",
   "execution_count": null,
   "id": "e77ffebf-1b2c-4399-a4c9-aa8364acd696",
   "metadata": {},
   "outputs": [],
   "source": [
    "# Exclui Problemas\n",
    "df_temp = df\n",
    "df_temp = df_temp[df_temp['erro_data'].isna()]\n",
    "df_temp = df_temp[df_temp['erro_coordenada'].isna()]\n",
    "\n",
    "# Export Clean\n",
    "df_temp.to_csv(\n",
    "    os.path.join(output_path_tab, 'tab_daee_clean.csv'),\n",
    "    index=False,\n",
    ")"
   ]
  },
  {
   "cell_type": "code",
   "execution_count": null,
   "id": "ae58a5fb-6e9a-40a2-be96-4c51bd8da54c",
   "metadata": {},
   "outputs": [],
   "source": [
    "# Seleciona Amostra Aleatória\n",
    "df_temp = df\n",
    "df_temp = df_temp.sample(n=300)\n",
    "\n",
    "# Export Clean\n",
    "df_temp.to_csv(\n",
    "    os.path.join(output_path_tab, 'tab_daee_exemplo.csv'),\n",
    "    index=False,\n",
    ")"
   ]
  },
  {
   "cell_type": "code",
   "execution_count": null,
   "id": "7ea11f02-2dfc-4cfa-afc5-4ba0bfa66c9f",
   "metadata": {},
   "outputs": [],
   "source": []
  }
 ],
 "metadata": {
  "interpreter": {
   "hash": "2bdda54bf0f28693adab761d90c570fb0a7faa3609b365313c0b5d078440c060"
  },
  "kernelspec": {
   "display_name": "Python 3.9.12 ('pablocarreira-py39')",
   "language": "python",
   "name": "python3"
  },
  "language_info": {
   "codemirror_mode": {
    "name": "ipython",
    "version": 3
   },
   "file_extension": ".py",
   "mimetype": "text/x-python",
   "name": "python",
   "nbconvert_exporter": "python",
   "pygments_lexer": "ipython3",
   "version": "3.9.12"
  }
 },
 "nbformat": 4,
 "nbformat_minor": 5
}
