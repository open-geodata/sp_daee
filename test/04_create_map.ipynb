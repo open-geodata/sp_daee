{
 "cells": [
  {
   "cell_type": "markdown",
   "id": "ed28993b-4743-4f8a-8f25-ba0e992f97bd",
   "metadata": {
    "pycharm": {
     "name": "#%% md\n"
    }
   },
   "source": [
    "<br>\n",
    "\n",
    "# Introdução"
   ]
  },
  {
   "cell_type": "code",
   "execution_count": null,
   "id": "3736ddb0",
   "metadata": {},
   "outputs": [],
   "source": [
    "#!pip3 install open_geodata --upgrade"
   ]
  },
  {
   "cell_type": "code",
   "execution_count": null,
   "id": "48463a25-e0b1-4f99-b6bf-090098c8b336",
   "metadata": {
    "pycharm": {
     "name": "#%%\n"
    }
   },
   "outputs": [],
   "source": [
    "import os\n",
    "import re\n",
    "import folium\n",
    "import pandas as pd\n",
    "import seaborn as sns\n",
    "import geopandas as gpd\n",
    "from folium import plugins"
   ]
  },
  {
   "cell_type": "code",
   "execution_count": null,
   "id": "00aecba9-a7c5-46f9-a625-6ed1704c83f1",
   "metadata": {
    "pycharm": {
     "name": "#%%\n"
    }
   },
   "outputs": [],
   "source": [
    "from paths import *"
   ]
  },
  {
   "cell_type": "code",
   "execution_count": null,
   "id": "f921b2f7-348d-41fe-b71c-d6f58f970341",
   "metadata": {
    "pycharm": {
     "name": "#%%\n"
    }
   },
   "outputs": [],
   "source": [
    "from open_geodata import lyr"
   ]
  },
  {
   "cell_type": "markdown",
   "id": "ca402bd2-7f40-474d-8d3c-459b612c6b1e",
   "metadata": {
    "pycharm": {
     "name": "#%% md\n"
    }
   },
   "source": [
    "<br>\n",
    "\n",
    "## Read Data"
   ]
  },
  {
   "cell_type": "code",
   "execution_count": null,
   "id": "f051b850-15f6-49ad-a75f-740795aa7327",
   "metadata": {
    "pycharm": {
     "name": "#%%\n"
    }
   },
   "outputs": [],
   "source": [
    "gdf = gpd.read_file(\n",
    "    os.path.join(output_path_geo, 'outorgas.gpkg')\n",
    ")\n",
    "\n",
    "gdf = gdf.sample(n=3000)\n",
    "\n",
    "gdf.head()\n",
    "gdf.info()"
   ]
  },
  {
   "cell_type": "markdown",
   "id": "b1d99773-918f-4184-97ae-9537a5a2924b",
   "metadata": {
    "pycharm": {
     "name": "#%% md\n"
    }
   },
   "source": [
    "<br>\n",
    "\n",
    "## Layer"
   ]
  },
  {
   "cell_type": "code",
   "execution_count": null,
   "id": "e5e1b340-b73c-4659-8ae0-f6e0b0751a1b",
   "metadata": {
    "pycharm": {
     "name": "#%%\n"
    }
   },
   "outputs": [],
   "source": [
    "def lyr_outorgas():\n",
    "    # Input\n",
    "    gdf = gpd.read_file(os.path.join(output_path_geo, 'outorgas.gpkg'))\n",
    "    gdf = gdf.to_crs(epsg=4326)\n",
    "\n",
    "    # Set dictionary\n",
    "    colors = {\n",
    "        'AMPLIACAO DE LEITO': '#a6cee3',\n",
    "        'BARRAMENTO': '#1f78b4',\n",
    "        'BATERIA DE POCOS': '#b2df8a',\n",
    "        'CANALIZACAO': '#33a02c',\n",
    "        'CAPT SUBTERRANEA - PORT.': '#fb9a99',\n",
    "        'CAPTACAO EM NASCENTE': '#e31a1c',\n",
    "        'CAPTACAO SUBTERRANEA': '#fdbf6f',\n",
    "        'CAPTACAO SUPERFICIAL': '#ff7f00',\n",
    "        'CONTENCAO DE MARGEM': '#cab2d6',\n",
    "        'DERIVACAO': '#6a3d9a',\n",
    "        'DESASSOREAMENTO': '#ffff99',\n",
    "        'DIQUE': '#b15928',\n",
    "        'DRENAGEM (REBAIXAMENTO)': '#a6cee3',\n",
    "        'ECLUSA': '#1f78b4',\n",
    "        'EMISSARIO': '#b2df8a',\n",
    "        'EXTRACAO DE AGUA SUBTERRA': '#33a02c',\n",
    "        'EXTRACAO DE AREIA': '#fb9a99',\n",
    "        'EXTRACAO MINERIOS - CLASS': '#e31a1c',\n",
    "        'FONTE ( AGUA SUPERFICIAL': '#fdbf6f',\n",
    "        'LANCAMENTO EM CAVA DE MIN': '#ff7f00',\n",
    "        'LANCAMENTO EM REDE': '#cab2d6',\n",
    "        'LANCAMENTO EM SOLO': '#6a3d9a',\n",
    "        'LANCAMENTO SUPERFICIAL': '#ffff99',\n",
    "        'OUTROS': '#b15928',\n",
    "        'PIER / CAIS': '#a6cee3',\n",
    "        'PISCINAO': '#1f78b4',\n",
    "        'POCO DE MONITORAMENTO': '#b2df8a',\n",
    "        'POLDER': '#33a02c',\n",
    "        'PROTECAO DE LEITO / MARGE': '#fb9a99',\n",
    "        'PROTECAO DE MARGEM': '#e31a1c',\n",
    "        'RECIRCULACAO': '#fdbf6f',\n",
    "        'RESERVACAO (TQ SUB-SUPERF': '#ff7f00',\n",
    "        'RETIFICACAO': '#cab2d6',\n",
    "        'REVERSAO': '#6a3d9a',\n",
    "        'TANQUE': '#ffff99',\n",
    "        'TRAVESSIA': '#b15928',\n",
    "        'TRAVESSIA AEREA': '#a6cee3',\n",
    "        'TRAVESSIA INTERMEDIARIA': '#1f78b4',\n",
    "        'TRAVESSIA SUBTERRANEA': '#b2df8a'\n",
    "    }\n",
    "\n",
    "    # Popup\n",
    "    #gdf['popup'] = gdf.apply(popup_html, axis=1)\n",
    "\n",
    "    # Delete Columns\n",
    "    gdf.drop(\n",
    "        [\n",
    "            # 'id_municipio', 'endereco', 'numero', 'bairro',\n",
    "            # 'municipio_sede', 'cep', 'telefone', 'fax',\n",
    "            # 'complemento', 'url', 'email'\n",
    "        ],\n",
    "        axis=1,\n",
    "        inplace=True\n",
    "    )\n",
    "\n",
    "    # Layer\n",
    "    return folium.GeoJson(\n",
    "        gdf,\n",
    "        name='Outorgas',\n",
    "        smooth_factor=1.0,\n",
    "        zoom_on_click=False,\n",
    "        embed=False,\n",
    "        control=True,\n",
    "        show=False,\n",
    "        style_function=lambda x: {\n",
    "            'fillColor': colors[x['properties']['uso']],\n",
    "            'color': colors[x['properties']['uso']],\n",
    "            'weight': 1,\n",
    "            'fillOpacity': 0.3,\n",
    "        },\n",
    "        highlight_function=lambda x: {\n",
    "            'weight': 3,\n",
    "            'fillOpacity': 0.6,\n",
    "        },\n",
    "        tooltip=folium.features.GeoJsonTooltip(\n",
    "            fields=['nome_rio_aquifero', 'uso'],\n",
    "            aliases=['nome_rio_aquifero', 'uso'],\n",
    "            sticky=True,\n",
    "            opacity=0.9,\n",
    "            direction='right',\n",
    "        ),\n",
    "        # popup=folium.GeoJsonPopup(\n",
    "        #     ['popup'],\n",
    "        #     parse_html=False,\n",
    "        #     max_width='400',\n",
    "        #     show=False,\n",
    "        #     labels=False,\n",
    "        #     sticky=True,\n",
    "        #     # localize=True,\n",
    "        #     # style=f\"\"\"\n",
    "        #     # background-color: #F0EFEF;\n",
    "        #     # \"\"\",\n",
    "        # )\n",
    "    )\n",
    "# Add Field\n",
    "\n",
    "\n",
    "def popup_html(row):\n",
    "    tel = str(row['telefone']).replace('-', '').replace(')',\n",
    "                                                        '').replace('(', '+55').replace(' ', '')\n",
    "    fax = str(row['fax']).replace('-', '').replace(')',\n",
    "                                                   '').replace('(', '+55').replace(' ', '')\n",
    "\n",
    "    html = \"\"\"\n",
    "    <div>\n",
    "    <p><b>{}</b> pertence à:\n",
    "    <h4><b>{}</b></h4></p>\n",
    "    \n",
    "    <p><b>Sede:</b><br>\n",
    "    {}{}{}<br>\n",
    "    {}\n",
    "    {}\n",
    "    {}</p>\n",
    "    <p><b>Contatos:</b><br>\n",
    "    {}\n",
    "    {}\n",
    "    {}</p>\n",
    "    <p>{}</p>\n",
    "    </div>\n",
    "    \"\"\".format(\n",
    "        '' if pd.isnull(row['municipio_nome']) else '{}'.format(\n",
    "            row['municipio_nome']),\n",
    "        '' if pd.isnull(row['agencia']) else '{}'.format(row['agencia']),\n",
    "        '' if pd.isnull(row['endereco']) else '{}'.format(row['endereco']),\n",
    "        '' if pd.isnull(row['numero']) else ', {}'.format(row['numero']),\n",
    "        '' if pd.isnull(row['complemento']\n",
    "                        ) else ' - {}'.format(row['complemento']),\n",
    "        '' if pd.isnull(row['bairro']) else 'Bairro: {}<br>'.format(\n",
    "            row['bairro']),\n",
    "        '' if pd.isnull(row['municipio_sede']) else 'Município: {}<br>'.format(\n",
    "            row['municipio_sede']),\n",
    "        '' if pd.isnull(row['cep']) else 'CEP: {}<br>'.format(row['cep']),\n",
    "        '' if pd.isnull(\n",
    "            row['telefone']) else 'Telefone: <a href=\"tel:{}\">{}</a><br>'.format(tel, row['telefone']),\n",
    "        '' if pd.isnull(\n",
    "            row['fax']) else 'Fax: <a href=\"tel:{}\">{}</a><br>'.format(fax, row['fax']),\n",
    "        '' if pd.isnull(\n",
    "            row['email']) else 'E-mail: <a href=\"mailto:{}\">{}</a>'.format(row['email'], row['email']),\n",
    "        '' if pd.isnull(\n",
    "            row['email']) else '<a href=\"{}\" target=\"_blank\">Conferir Dados</a>'.format(row['url']),\n",
    "    )\n",
    "\n",
    "    html = html.replace('\\n', '')\n",
    "    html = re.sub('\\s\\s+', ' ', html)  # Remove Espaços no meio\n",
    "    html = html.strip()\n",
    "    return html\n"
   ]
  },
  {
   "cell_type": "markdown",
   "id": "fbeaa1f4-a7de-43a5-bc37-bc12bd83a43f",
   "metadata": {
    "pycharm": {
     "name": "#%% md\n"
    }
   },
   "source": [
    "<br>\n",
    "\n",
    "## Folium"
   ]
  },
  {
   "cell_type": "code",
   "execution_count": null,
   "id": "064ad1bf-e672-4c7b-a540-65b4a649e4ef",
   "metadata": {
    "pycharm": {
     "name": "#%%\n"
    }
   },
   "outputs": [],
   "source": [
    "def get_map(input_geojson):\n",
    "    # Input\n",
    "    gdf = gpd.read_file(input_geojson)\n",
    "    gdf = gdf.to_crs(epsg=4326)\n",
    "    sw = gdf.bounds[['miny', 'minx']].min().values.tolist()\n",
    "    ne = gdf.bounds[['maxy', 'maxx']].max().values.tolist()\n",
    "    bounds = [sw, ne]\n",
    "    \n",
    "    # Zoom\n",
    "    min_zoom = 8\n",
    "    max_zoom = 21\n",
    "    padding = 1\n",
    "    \n",
    "    # Create Map\n",
    "    m = folium.Map(\n",
    "        min_zoom=min_zoom,\n",
    "        max_zoom=max_zoom,\n",
    "        max_bounds=True,\n",
    "        min_lat=bounds[0][0]*((100+padding)/100),\n",
    "        min_lon=bounds[0][1]*((100+padding)/100),\n",
    "        max_lat=bounds[1][0]*((100-padding)/100),\n",
    "        max_lon=bounds[1][1]*((100-padding)/100),\n",
    "        tiles=None,\n",
    "        # zoom_delta=0.1,\n",
    "        # zoom_start=10,\n",
    "    )\n",
    "    \n",
    "    # Add Layers\n",
    "    m.add_child(lyr.base.google_streets(min_zoom, max_zoom))\n",
    "    m.add_child(lyr.base.google_terrain(min_zoom, max_zoom))\n",
    "    m.add_child(lyr.base.google_hybrid(min_zoom, max_zoom))\n",
    "    m.add_child(lyr.base.google_satellite(min_zoom, max_zoom))\n",
    "\n",
    "    # Monitoramento\n",
    "    m.add_child(lyr_outorgas())\n",
    "\n",
    "    # Plugins\n",
    "    m.fit_bounds(bounds)\n",
    "    plugins.Fullscreen(\n",
    "        position='topleft',\n",
    "        title='Clique para Maximizar',\n",
    "        title_cancel='Mininizar',\n",
    "    ).add_to(m)\n",
    "    folium.LayerControl(\n",
    "        position='topright',\n",
    "        collapsed=False,\n",
    "    ).add_to(m)\n",
    "    return m"
   ]
  },
  {
   "cell_type": "code",
   "execution_count": null,
   "id": "635f3e3e-8979-4f0d-a3c2-5457c23396fe",
   "metadata": {
    "pycharm": {
     "name": "#%%\n"
    }
   },
   "outputs": [],
   "source": [
    "# Create Maps\n",
    "m = get_map(\n",
    "    os.path.join(output_path_geo, 'outorgas.gpkg')\n",
    ")\n",
    "\n",
    "# Save\n",
    "#m.save(os.path.join(output_path_map, 'outorgas_map.html'))\n",
    "m"
   ]
  }
 ],
 "metadata": {
  "interpreter": {
   "hash": "2bdda54bf0f28693adab761d90c570fb0a7faa3609b365313c0b5d078440c060"
  },
  "kernelspec": {
   "display_name": "Python 3 (ipykernel)",
   "language": "python",
   "name": "python3"
  },
  "language_info": {
   "codemirror_mode": {
    "name": "ipython",
    "version": 3
   },
   "file_extension": ".py",
   "mimetype": "text/x-python",
   "name": "python",
   "nbconvert_exporter": "python",
   "pygments_lexer": "ipython3",
   "version": "3.9.12"
  }
 },
 "nbformat": 4,
 "nbformat_minor": 5
}
