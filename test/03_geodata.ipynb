{
 "cells": [
  {
   "cell_type": "code",
   "execution_count": null,
   "id": "c8210ed4-41cc-44b9-91cd-82bd075ae027",
   "metadata": {},
   "outputs": [],
   "source": [
    "import os\n",
    "#import csv\n",
    "#import glob\n",
    "#import numpy as np\n",
    "import pandas as pd\n",
    "import geopandas as gpd\n",
    "#from datetime import datetime\n",
    "from shapely.geometry import Point"
   ]
  },
  {
   "cell_type": "code",
   "execution_count": null,
   "id": "5651fb5f-ada3-4bfc-87b4-76705fd2dace",
   "metadata": {},
   "outputs": [],
   "source": [
    "from paths import *"
   ]
  },
  {
   "cell_type": "markdown",
   "id": "7f8cbe63-54f7-40e7-9fb8-c4e8e4ee929d",
   "metadata": {},
   "source": [
    "<br>\n",
    "\n",
    "## Read Data"
   ]
  },
  {
   "cell_type": "code",
   "execution_count": null,
   "id": "1c06e225-2aea-4b5a-a257-bb4f01a3a5b1",
   "metadata": {},
   "outputs": [],
   "source": [
    "df = pd.read_csv(\n",
    "    os.path.join(output_path_tab, 'tab_daee.csv')\n",
    ")\n",
    "df.info()\n",
    "df.head()"
   ]
  },
  {
   "cell_type": "markdown",
   "id": "4523825d-b4a1-4f54-88e1-1dc033b97a7a",
   "metadata": {},
   "source": [
    "<br>\n",
    "\n",
    "# Dados Espaciais"
   ]
  },
  {
   "cell_type": "code",
   "execution_count": null,
   "id": "0f15f9e6-d40a-40a8-8093-250d64c8100c",
   "metadata": {},
   "outputs": [],
   "source": [
    "# Exclui Problemas\n",
    "df = df[df['erro_data'].isna()]\n",
    "df = df[df['erro_coordenada'].isna()]"
   ]
  },
  {
   "cell_type": "code",
   "execution_count": null,
   "id": "b91fa10c-fa88-4686-bf00-9d893a32e74a",
   "metadata": {},
   "outputs": [],
   "source": [
    "# Checa Resultados\n",
    "print(set(df['utm_mc']))\n",
    "df['utm_mc'].hist()"
   ]
  },
  {
   "cell_type": "markdown",
   "id": "0b90ac33-c36f-4f92-a6c2-fe7c356192a6",
   "metadata": {},
   "source": [
    "<br>\n",
    "\n",
    "## Concatena"
   ]
  },
  {
   "cell_type": "code",
   "execution_count": null,
   "id": "1bd4cdb2-3588-4247-bf35-c3b7c78161c8",
   "metadata": {},
   "outputs": [],
   "source": [
    "df_22 = df[df['utm_mc'] == 51]\n",
    "\n",
    "geo_22 = [Point(xy) for xy in zip(df_22['utm_leste_m'], df_22['utm_norte_m'])]\n",
    "gdf_22 = gpd.GeoDataFrame(\n",
    "    df_22,\n",
    "    crs='EPSG:31982',\n",
    "    geometry=geo_22,\n",
    ")\n",
    "\n",
    "gdf_22 = gdf_22.to_crs(epsg=4326)"
   ]
  },
  {
   "cell_type": "code",
   "execution_count": null,
   "id": "6bd2b4e9-e02c-42ad-93e1-89e26130d6a1",
   "metadata": {},
   "outputs": [],
   "source": [
    "df_23 = df[df['utm_mc'] == 45]\n",
    "\n",
    "geo_23 = [Point(xy) for xy in zip(df_23['utm_leste_m'], df_23['utm_norte_m'])]\n",
    "gdf_23 = gpd.GeoDataFrame(\n",
    "    df_23,\n",
    "    crs='EPSG:31983',\n",
    "    geometry=geo_23,\n",
    ")\n",
    "\n",
    "gdf_23 = gdf_23.to_crs(epsg=4326)"
   ]
  },
  {
   "cell_type": "code",
   "execution_count": null,
   "id": "309b3fca-15fe-4a49-9ffb-a65d1fd24532",
   "metadata": {},
   "outputs": [],
   "source": [
    "gdf = gpd.GeoDataFrame(\n",
    "    pd.concat([gdf_22, gdf_23],\n",
    "    ignore_index=True),\n",
    "    crs=gdf_22.crs\n",
    ")"
   ]
  },
  {
   "cell_type": "markdown",
   "id": "21202582-0b9f-497f-8f22-7c7ca6087cec",
   "metadata": {},
   "source": [
    "<br>\n",
    "\n",
    "## Salva arquivo"
   ]
  },
  {
   "cell_type": "code",
   "execution_count": null,
   "id": "1b74a042-f7dc-4158-a535-3801dc276a66",
   "metadata": {},
   "outputs": [],
   "source": [
    "gdf.to_file(\n",
    "    os.path.join(output_path_geo, 'outorgas.gpkg'),\n",
    "    layer='outorgas',\n",
    "    driver='GPKG'\n",
    ")"
   ]
  },
  {
   "cell_type": "code",
   "execution_count": null,
   "id": "c1cb5575-9b4c-4956-84e2-d80a7149868c",
   "metadata": {},
   "outputs": [],
   "source": []
  }
 ],
 "metadata": {
  "interpreter": {
   "hash": "2bdda54bf0f28693adab761d90c570fb0a7faa3609b365313c0b5d078440c060"
  },
  "kernelspec": {
   "display_name": "Python 3.9.12 ('pablocarreira-py39')",
   "language": "python",
   "name": "python3"
  },
  "language_info": {
   "codemirror_mode": {
    "name": "ipython",
    "version": 3
   },
   "file_extension": ".py",
   "mimetype": "text/x-python",
   "name": "python",
   "nbconvert_exporter": "python",
   "pygments_lexer": "ipython3",
   "version": "3.9.12"
  }
 },
 "nbformat": 4,
 "nbformat_minor": 5
}
